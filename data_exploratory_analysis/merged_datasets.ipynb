{
 "cells": [
  {
   "cell_type": "markdown",
   "metadata": {},
   "source": [
    "# Imports"
   ]
  },
  {
   "cell_type": "code",
   "execution_count": 1,
   "metadata": {},
   "outputs": [],
   "source": [
    "import pandas as pd\n",
    "from tqdm import tqdm\n",
    "import matplotlib.pyplot as plt\n",
    "import ast"
   ]
  },
  {
   "cell_type": "code",
   "execution_count": 2,
   "metadata": {},
   "outputs": [],
   "source": [
    "import sys\n",
    "ROOT = '../'\n",
    "sys.path.append(ROOT)  # Add the root folder to the sys.path\n",
    "\n",
    "# Import the modules\n",
    "from config import *\n",
    "\n",
    "# Reload the configuration\n",
    "from importlib import reload\n",
    "reload(sys.modules['config'])\n",
    "\n",
    "# Import the reloaded modules\n",
    "from config import *"
   ]
  },
  {
   "cell_type": "markdown",
   "metadata": {},
   "source": [
    "# Load datasets"
   ]
  },
  {
   "cell_type": "code",
   "execution_count": 3,
   "metadata": {},
   "outputs": [],
   "source": [
    "MERGED_DAILY_DATASET_PATH = os.path.join(ROOT, MERGED_DATASET_PATH, 'merged_daily.csv')\n",
    "MERGED_HOURLY_DATASET_PATH = os.path.join(ROOT, MERGED_DATASET_PATH, 'merged_hourly.csv')"
   ]
  },
  {
   "cell_type": "code",
   "execution_count": 5,
   "metadata": {},
   "outputs": [],
   "source": [
    "# Load the datasets\n",
    "merged_daily = pd.read_csv(MERGED_DAILY_DATASET_PATH)\n",
    "# merged_hourly = pd.read_csv(MERGED_HOURLY_DATASET_PATH)"
   ]
  },
  {
   "cell_type": "code",
   "execution_count": null,
   "metadata": {},
   "outputs": [],
   "source": [
    "merged_daily"
   ]
  },
  {
   "cell_type": "code",
   "execution_count": null,
   "metadata": {},
   "outputs": [],
   "source": [
    "# merged_hourly"
   ]
  },
  {
   "cell_type": "markdown",
   "metadata": {},
   "source": [
    "# Rows number that have both \"cointelegraph\" and \"reddit\" columns equal to '[]'"
   ]
  },
  {
   "cell_type": "code",
   "execution_count": null,
   "metadata": {},
   "outputs": [],
   "source": [
    "# Rows number that have both \"cointelegraph\" and \"reddit\" columns equal to []\n",
    "merged_daily[(merged_daily['cointelegraph'] == '[]') & (merged_daily['reddit'] == '[]')]"
   ]
  },
  {
   "cell_type": "code",
   "execution_count": null,
   "metadata": {},
   "outputs": [],
   "source": [
    "# Rows number that have both \"cointelegraph\" and \"reddit\" columns equal to []\n",
    "merged_hourly[(merged_hourly['cointelegraph'] == '[]') & (merged_hourly['reddit'] == '[]')]"
   ]
  },
  {
   "cell_type": "markdown",
   "metadata": {},
   "source": [
    "# Count the number of words in comments/posts/news (using merged_daily)"
   ]
  },
  {
   "cell_type": "code",
   "execution_count": null,
   "metadata": {},
   "outputs": [],
   "source": [
    "# Import nltk\n",
    "import nltk\n",
    "nltk.download('punkt')\n",
    "\n",
    "from nltk.tokenize import word_tokenize"
   ]
  },
  {
   "cell_type": "code",
   "execution_count": null,
   "metadata": {},
   "outputs": [],
   "source": [
    "# Count the number of words in each column\n",
    "daily_news_words = []\n",
    "daily_reddit_submissions_words = []\n",
    "daily_reddit_comments_words = []\n",
    "\n",
    "for i, row in tqdm(merged_daily.iterrows(), total=len(merged_daily)):\n",
    "    try:\n",
    "        # Count the number of words in the \"cointelegraph\" column\n",
    "        cointelegraph_news = ast.literal_eval(row['cointelegraph'])\n",
    "    except:\n",
    "        print(i)\n",
    "        print(row['cointelegraph'])\n",
    "    for news in cointelegraph_news:\n",
    "        if news == '[]':\n",
    "            daily_news_words.append(0)\n",
    "        else:\n",
    "            # Count only the number of words in the \"title\" ([3]), \"leadtext\" ([5]) and \"body\" ([6]) columns\n",
    "            daily_news_words.append(len(word_tokenize(news[3])) + len(word_tokenize(news[5])) + len(word_tokenize(news[6])))\n",
    "    \n",
    "    # Count the number of words in the \"reddit\" column\n",
    "    try:\n",
    "        reddit_submissions = ast.literal_eval(row['reddit'])\n",
    "    except:\n",
    "        print(i)\n",
    "        print(row['reddit'])\n",
    "    submissions_word_count = 0\n",
    "    comments_word_count = 0\n",
    "    for submission in reddit_submissions:\n",
    "        # Count only the number of words in the \"title\" ([1]) and \"text\" ([5]) columns\n",
    "        if submission == '[]':\n",
    "            daily_reddit_submissions_words.append(0)\n",
    "        else:\n",
    "            submissions_word_count += len(word_tokenize(submission[1])) + len(word_tokenize(submission[5]))\n",
    "            # Also for each comment in the submission ([12]), count the number of words in the \"text\" ([4]) column\n",
    "            # If there are no comments, append 0\n",
    "            comments = submission[12] if submission[12] != '[]' else [] \n",
    "            for comment in comments: # Comments\n",
    "                if comment == '[]':\n",
    "                    comments_word_count += 0\n",
    "                else:\n",
    "                    comments_word_count += len(word_tokenize(comment[4]))\n",
    "            daily_reddit_comments_words.append(comments_word_count) # Append the comments word count\n",
    "    daily_reddit_submissions_words.append(submissions_word_count) # Append the submissions word count"
   ]
  },
  {
   "cell_type": "code",
   "execution_count": null,
   "metadata": {},
   "outputs": [],
   "source": [
    "# Print the number of words\n",
    "print(\"News Words: \", sum(daily_news_words))\n",
    "print(\"Reddit Submissions Words: \", sum(daily_reddit_submissions_words))\n",
    "print(\"Reddit Comments Words: \", sum(daily_reddit_comments_words))\n",
    "\n",
    "# Print the mean number of words\n",
    "print(\"Mean News Words: \", sum(daily_news_words) / len(daily_news_words))\n",
    "print(\"Mean Reddit Submissions Words: \", sum(daily_reddit_submissions_words) / len(daily_reddit_submissions_words))\n",
    "print(\"Mean Reddit Comments Words: \", sum(daily_reddit_comments_words) / len(daily_reddit_comments_words))\n",
    "\n",
    "# Print the max number of words \n",
    "print(\"Max News Words: \", max(daily_news_words))\n",
    "print(\"Max Reddit Submissions Words: \", max(daily_reddit_submissions_words))\n",
    "print(\"Max Reddit Comments Words: \", max(daily_reddit_comments_words))\n"
   ]
  },
  {
   "cell_type": "markdown",
   "metadata": {},
   "source": [
    "# Check when the price has changed significantly and whether the news / posts / comments reflect this trend"
   ]
  },
  {
   "cell_type": "code",
   "execution_count": null,
   "metadata": {},
   "outputs": [],
   "source": [
    "# Find max and min values into the pct_price_change column\n",
    "print(\"Max Price Change in daily dataset: \", merged_daily['pct_price_change'].max())\n",
    "print(\"Min Price Change in daily dataset\", merged_daily['pct_price_change'].min())\n",
    "\n",
    "# Find max and min values into the pct_price_change column\n",
    "print(\"Max Price Change in hourly dataset: \", merged_hourly['pct_price_change'].max())\n",
    "print(\"Min Price Change in hourly dataset: \", merged_hourly['pct_price_change'].min())"
   ]
  },
  {
   "cell_type": "code",
   "execution_count": 13,
   "metadata": {},
   "outputs": [],
   "source": [
    "# Select the rows that have the max and min values in the pct_price_change column\n",
    "max_price_change_daily = merged_daily[merged_daily['pct_price_change'] == merged_daily['pct_price_change'].max()]\n",
    "min_price_change_daily = merged_daily[merged_daily['pct_price_change'] == merged_daily['pct_price_change'].min()]\n",
    "\n",
    "max_price_change_hourly = merged_hourly[merged_hourly['pct_price_change'] == merged_hourly['pct_price_change'].max()]\n",
    "min_price_change_hourly = merged_hourly[merged_hourly['pct_price_change'] == merged_hourly['pct_price_change'].min()]"
   ]
  },
  {
   "cell_type": "markdown",
   "metadata": {},
   "source": [
    "## Daily dataset"
   ]
  },
  {
   "cell_type": "code",
   "execution_count": null,
   "metadata": {},
   "outputs": [],
   "source": [
    "max_price_change_daily"
   ]
  },
  {
   "cell_type": "code",
   "execution_count": 15,
   "metadata": {},
   "outputs": [],
   "source": [
    "# Select the news and reddit post\n",
    "cointelegraph_news = []\n",
    "reddit_submissions = []\n",
    "\n",
    "cointelegraph_news = ast.literal_eval(max_price_change_daily['cointelegraph'].values[0])\n",
    "reddit_submissions = ast.literal_eval(max_price_change_daily['reddit'].values[0])"
   ]
  },
  {
   "cell_type": "code",
   "execution_count": null,
   "metadata": {},
   "outputs": [],
   "source": [
    "cointelegraph_news"
   ]
  },
  {
   "cell_type": "code",
   "execution_count": null,
   "metadata": {},
   "outputs": [],
   "source": [
    "reddit_submissions"
   ]
  },
  {
   "cell_type": "code",
   "execution_count": null,
   "metadata": {},
   "outputs": [],
   "source": [
    "min_price_change_daily"
   ]
  },
  {
   "cell_type": "code",
   "execution_count": 19,
   "metadata": {},
   "outputs": [],
   "source": [
    "# Select the news and reddit post\n",
    "cointelegraph_news = []\n",
    "reddit_submissions = []\n",
    "\n",
    "cointelegraph_news = ast.literal_eval(min_price_change_daily['cointelegraph'].values[0])\n",
    "reddit_submissions = ast.literal_eval(min_price_change_daily['reddit'].values[0])"
   ]
  },
  {
   "cell_type": "code",
   "execution_count": null,
   "metadata": {},
   "outputs": [],
   "source": [
    "cointelegraph_news"
   ]
  },
  {
   "cell_type": "code",
   "execution_count": null,
   "metadata": {},
   "outputs": [],
   "source": [
    "reddit_submissions"
   ]
  },
  {
   "cell_type": "markdown",
   "metadata": {},
   "source": [
    "## Hourly dataset"
   ]
  },
  {
   "cell_type": "code",
   "execution_count": null,
   "metadata": {},
   "outputs": [],
   "source": [
    "max_price_change_hourly"
   ]
  },
  {
   "cell_type": "code",
   "execution_count": null,
   "metadata": {},
   "outputs": [],
   "source": [
    "# Select 5 rows before and after the max price change row\n",
    "max_price_change_hourly_index = max_price_change_hourly.index[0]\n",
    "max_price_change_hourly_before_and_after = merged_hourly.iloc[max_price_change_hourly_index - 5: max_price_change_hourly_index + 5]\n",
    "max_price_change_hourly_before_and_after"
   ]
  },
  {
   "cell_type": "code",
   "execution_count": 24,
   "metadata": {},
   "outputs": [],
   "source": [
    "# Select the news and reddit post\n",
    "cointelegraph_news = []\n",
    "reddit_submissions = []\n",
    "\n",
    "cointelegraph_news = ast.literal_eval(max_price_change_hourly_before_and_after['cointelegraph'].values[6])\n",
    "reddit_submissions = ast.literal_eval(max_price_change_hourly_before_and_after['reddit'].values[6])"
   ]
  },
  {
   "cell_type": "code",
   "execution_count": null,
   "metadata": {},
   "outputs": [],
   "source": [
    "cointelegraph_news"
   ]
  },
  {
   "cell_type": "code",
   "execution_count": null,
   "metadata": {},
   "outputs": [],
   "source": [
    "reddit_submissions"
   ]
  },
  {
   "cell_type": "code",
   "execution_count": null,
   "metadata": {},
   "outputs": [],
   "source": [
    "min_price_change_hourly"
   ]
  },
  {
   "cell_type": "code",
   "execution_count": null,
   "metadata": {},
   "outputs": [],
   "source": [
    "# Select 5 rows before and after the min price change row\n",
    "min_price_change_hourly_index = min_price_change_hourly.index[0]\n",
    "min_price_change_hourly_before_and_after = merged_hourly.iloc[min_price_change_hourly_index - 5: min_price_change_hourly_index + 5]\n",
    "min_price_change_hourly_before_and_after"
   ]
  },
  {
   "cell_type": "code",
   "execution_count": 29,
   "metadata": {},
   "outputs": [],
   "source": [
    "# Select the news and reddit post\n",
    "cointelegraph_news = []\n",
    "reddit_submissions = []\n",
    "\n",
    "cointelegraph_news = ast.literal_eval(min_price_change_hourly_before_and_after['cointelegraph'].values[6])\n",
    "reddit_submissions = ast.literal_eval(min_price_change_hourly_before_and_after['reddit'].values[8])"
   ]
  },
  {
   "cell_type": "code",
   "execution_count": null,
   "metadata": {},
   "outputs": [],
   "source": [
    "cointelegraph_news"
   ]
  },
  {
   "cell_type": "code",
   "execution_count": null,
   "metadata": {},
   "outputs": [],
   "source": [
    "reddit_submissions"
   ]
  },
  {
   "cell_type": "markdown",
   "metadata": {},
   "source": [
    "# Check how the price has changed  "
   ]
  },
  {
   "cell_type": "markdown",
   "metadata": {},
   "source": [
    "## Daily dataset"
   ]
  },
  {
   "cell_type": "code",
   "execution_count": 32,
   "metadata": {},
   "outputs": [],
   "source": [
    "merged_daily = pd.read_csv(MERGED_DAILY_DATASET_PATH)"
   ]
  },
  {
   "cell_type": "code",
   "execution_count": null,
   "metadata": {},
   "outputs": [],
   "source": [
    "merged_daily"
   ]
  },
  {
   "cell_type": "code",
   "execution_count": null,
   "metadata": {},
   "outputs": [],
   "source": [
    "# Count the number of same, up, down trend values\n",
    "merged_daily['trend'].value_counts()"
   ]
  },
  {
   "cell_type": "code",
   "execution_count": null,
   "metadata": {},
   "outputs": [],
   "source": [
    "# Plot the sentiment distribution\n",
    "plt.hist(merged_daily['trend'], bins=3, rwidth=0.8)\n",
    "plt.xlabel('Trend')\n",
    "plt.ylabel('Frequency')\n",
    "plt.title('Trend Distribution')\n",
    "plt.show()\n"
   ]
  },
  {
   "cell_type": "markdown",
   "metadata": {},
   "source": [
    "## Hourly dataset"
   ]
  },
  {
   "cell_type": "code",
   "execution_count": 36,
   "metadata": {},
   "outputs": [],
   "source": [
    "merged_hourly = pd.read_csv(MERGED_HOURLY_DATASET_PATH)"
   ]
  },
  {
   "cell_type": "code",
   "execution_count": null,
   "metadata": {},
   "outputs": [],
   "source": [
    "merged_hourly"
   ]
  },
  {
   "cell_type": "code",
   "execution_count": null,
   "metadata": {},
   "outputs": [],
   "source": [
    "# Count the number of same, up, down trend values\n",
    "merged_hourly['trend'].value_counts()"
   ]
  },
  {
   "cell_type": "code",
   "execution_count": null,
   "metadata": {},
   "outputs": [],
   "source": [
    "# Plot the sentiment distribution\n",
    "plt.hist(merged_hourly['trend'], bins=3, rwidth=0.8)\n",
    "plt.xlabel('Trend')\n",
    "plt.ylabel('Frequency')\n",
    "plt.title('Trend Distribution')\n",
    "plt.show()"
   ]
  }
 ],
 "metadata": {
  "kernelspec": {
   "display_name": ".venv",
   "language": "python",
   "name": "python3"
  },
  "language_info": {
   "codemirror_mode": {
    "name": "ipython",
    "version": 3
   },
   "file_extension": ".py",
   "mimetype": "text/x-python",
   "name": "python",
   "nbconvert_exporter": "python",
   "pygments_lexer": "ipython3",
   "version": "3.12.4"
  }
 },
 "nbformat": 4,
 "nbformat_minor": 2
}
